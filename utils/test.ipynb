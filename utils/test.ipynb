{
 "cells": [
  {
   "cell_type": "code",
   "execution_count": 2,
   "id": "e722c7ee",
   "metadata": {},
   "outputs": [
    {
     "name": "stdout",
     "output_type": "stream",
     "text": [
      "Health:{'checks': [], 'message': 'ready for queries and writes', 'name': 'influxdb', 'status': 'pass', 'version': '1.8.10'}\n",
      "DBList:{'results': [{'statement_id': 0, 'series': [{'name': 'databases', 'columns': ['name'], 'values': [['weatherflow'], ['GarminStats'], ['_internal']]}]}]}\n",
      "DBExists: True\n",
      "DBInspect: {'results': [{'statement_id': 0, 'series': [{'name': 'measurements', 'columns': ['name'], 'values': [['weatherflow_forecast_current'], ['weatherflow_forecast_daily'], ['weatherflow_forecast_hourly'], ['weatherflow_obs'], ['weatherflow_rapid_wind'], ['weatherflow_stats'], ['weatherflow_system_metrics']]}]}]}\n"
     ]
    }
   ],
   "source": [
    "import requests\n",
    "from influxdb_utils import *\n",
    "\n",
    "base_url = \"http://localhost:8086\"\n",
    "\n",
    "\n",
    "print(f\"Health:{check_influxdb_health(base_url)}\")\n",
    "print(f\"DBList:{get_database_list(base_url)}\")\n",
    "print(f\"DBExists: {check_database_exists(base_url, 'weatherflow')}\")\n",
    "db_inspected = inspect_database(base_url, 'weatherflow')\n",
    "print(f\"DBInspect: {inspect_database(base_url, 'weatherflow')}\")\n",
    "\n"
   ]
  },
  {
   "cell_type": "code",
   "execution_count": null,
   "id": "ac243b99",
   "metadata": {},
   "outputs": [],
   "source": [
    "weatherflow_series = get_series_for_database(base_url, 'weatherflow')\n",
    "print(f\"WeatherFlow Series: {weatherflow_series}\")"
   ]
  },
  {
   "cell_type": "code",
   "execution_count": null,
   "id": "89f2346f",
   "metadata": {},
   "outputs": [],
   "source": [
    "\n",
    "for s in weatherflow_series:\n",
    "    print(f\"SeriesInspect: {inspect_series(base_url,'weatherflow', s[0])}\")\n",
    "\n"
   ]
  },
  {
   "cell_type": "code",
   "execution_count": null,
   "id": "634919d1",
   "metadata": {},
   "outputs": [],
   "source": [
    "\n",
    "    \n",
    "start_time = \"2023-10-01T00:00:00Z\"\n",
    "end_time = \"2025-10-02T00:00:00Z\"\n",
    "series_name = \"weatherflow_obs\"\n",
    "# print(f\"SeriesData: {get_series_data('weatherflow', series_name, start_time, end_time)}\")\n",
    "from df_utils import *\n",
    "\n",
    "df = convert_to_dataframe(get_series_data(base_url, 'weatherflow', series_name, start_time, end_time))\n",
    "check_missing_values(df)\n",
    "\n"
   ]
  },
  {
   "cell_type": "code",
   "execution_count": null,
   "id": "d7d6f2d5",
   "metadata": {},
   "outputs": [],
   "source": [
    "summarize_dataframe(df).style.background_gradient(cmap='Purples')"
   ]
  },
  {
   "cell_type": "code",
   "execution_count": null,
   "id": "34d0954a",
   "metadata": {},
   "outputs": [],
   "source": [
    "\n"
   ]
  },
  {
   "cell_type": "code",
   "execution_count": null,
   "id": "7aaca792",
   "metadata": {},
   "outputs": [],
   "source": [
    "\n",
    "# def delete_missing_series_entries(db_name, series_name):\n",
    "#     if check_database_exists(db_name):\n",
    "#         query = f'DELETE FROM \"{series_name}\" WHERE collector_type = \\'collector_rest\\''\n",
    "#         delete_url = f\"{base_url}/query?db={db_name}&q={query}\"\n",
    "#         response = requests.post(delete_url)\n",
    "#         if response.status_code == 204:\n",
    "#             return f\"Entries in series '{series_name}' deleted successfully.\"\n",
    "#         else:\n",
    "#             return f\"Failed to delete entries: {response.text}\"\n",
    "#     else:\n",
    "#         return f\"Database '{db_name}' does not exist.\"\n",
    "    \n",
    "# delete_missing_series_entries('weatherflow', 'weatherflow_obs')"
   ]
  },
  {
   "cell_type": "code",
   "execution_count": 3,
   "id": "0bcc04b6",
   "metadata": {},
   "outputs": [
    {
     "data": {
      "text/plain": [
       "{'results': [{'statement_id': 0,\n",
       "   'series': [{'name': 'databases',\n",
       "     'columns': ['name'],\n",
       "     'values': [['weatherflow'], ['GarminStats'], ['_internal']]}]}]}"
      ]
     },
     "execution_count": 3,
     "metadata": {},
     "output_type": "execute_result"
    }
   ],
   "source": [
    "from influxdb_utils import get_database_list\n",
    "\n",
    "get_database_list(base_url)"
   ]
  },
  {
   "cell_type": "code",
   "execution_count": 7,
   "id": "fb542c40",
   "metadata": {},
   "outputs": [
    {
     "data": {
      "text/plain": [
       "{'error': 'missing required parameter \"q\"'}"
      ]
     },
     "execution_count": 7,
     "metadata": {},
     "output_type": "execute_result"
    }
   ],
   "source": [
    "import requests\n",
    "response = requests.post(\"http://localhost:8086/query?db=GarminStats&epoch=ms\")\n",
    "response.json()"
   ]
  }
 ],
 "metadata": {
  "kernelspec": {
   "display_name": ".venv",
   "language": "python",
   "name": "python3"
  },
  "language_info": {
   "codemirror_mode": {
    "name": "ipython",
    "version": 3
   },
   "file_extension": ".py",
   "mimetype": "text/x-python",
   "name": "python",
   "nbconvert_exporter": "python",
   "pygments_lexer": "ipython3",
   "version": "3.12.3"
  }
 },
 "nbformat": 4,
 "nbformat_minor": 5
}
